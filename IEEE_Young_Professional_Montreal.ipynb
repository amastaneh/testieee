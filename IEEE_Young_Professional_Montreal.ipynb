{
  "nbformat": 4,
  "nbformat_minor": 0,
  "metadata": {
    "colab": {
      "name": "IEEE Young Professional Montreal.ipynb",
      "provenance": [],
      "collapsed_sections": [],
      "include_colab_link": true
    },
    "kernelspec": {
      "name": "python3",
      "display_name": "Python 3"
    }
  },
  "cells": [
    {
      "cell_type": "markdown",
      "metadata": {
        "id": "view-in-github",
        "colab_type": "text"
      },
      "source": [
        "<a href=\"https://colab.research.google.com/github/amastaneh/testieee/blob/main/IEEE_Young_Professional_Montreal.ipynb\" target=\"_parent\"><img src=\"https://colab.research.google.com/assets/colab-badge.svg\" alt=\"Open In Colab\"/></a>"
      ]
    },
    {
      "cell_type": "markdown",
      "metadata": {
        "id": "YJYlfzlmFqZe"
      },
      "source": [
        "<p>\r\n",
        "<img alt=\"IEEE Logo\" height=\"100px\" src=\"https://drive.google.com/uc?export=view&id=1HwS0bpL_u7kM6t1DybyETjpGbyVD_gsJ\" align=\"center\" hspace=\"20\" vspace=\"10px\">\r\n",
        "</p>\r\n",
        "\r\n",
        "\r\n",
        "\r\n",
        "\r\n",
        "\r\n",
        "<p align=\"center\"> <h1>Welcome to IEEE Young Profecional Montreal Workshop</h1>\r\n",
        "</p>\r\n",
        "\r\n",
        "---\r\n",
        "\r\n",
        "\r\n",
        "\r\n",
        "\r\n",
        "\r\n",
        "\r\n",
        "\r\n",
        "\r\n"
      ]
    },
    {
      "cell_type": "markdown",
      "metadata": {
        "id": "RGR6rxWPo29r"
      },
      "source": [
        "<div>\r\n",
        "<br/><p><img alt=\"Colaboratory logo\" height=\"45px\" src=\"/img/colab_favicon.ico\" align=\"left\" hspace=\"10px\" vspace=\"0px\">\r\n",
        "</p>\r\n",
        "\r\n",
        "<h1>What is Colaboratory?</h1>\r\n",
        "<br/></div>\r\n",
        "\r\n",
        "\r\n",
        "\"Colab\" allows you to write and execute Python in your browser, with \r\n",
        "- Zero configuration required\r\n",
        "- Free access to GPUs\r\n",
        "- Easy sharing\r\n",
        "\r\n",
        "\r\n",
        "\r\n",
        "\r\n",
        "\r\n"
      ]
    },
    {
      "cell_type": "markdown",
      "metadata": {
        "id": "JfdXvrGz3sUi"
      },
      "source": [
        "<div>\r\n",
        "<br/><p><img alt=\"Colaboratory logo\" height=\"45px\" src=\"/img/colab_favicon.ico\" align=\"left\" hspace=\"10px\" vspace=\"0px\"></p>\r\n",
        "\r\n",
        "<h1>Get Started</h1>\r\n",
        "\r\n",
        "\r\n",
        "- Search in google\r\n",
        "- Add from Google Drive\r\n",
        "- Settings\r\n",
        "- Them\r\n",
        "- GPU / TPU\r\n",
        "\r\n",
        "\r\n",
        "\r\n"
      ]
    },
    {
      "cell_type": "markdown",
      "metadata": {
        "id": "ovtuFf3eyp4g"
      },
      "source": [
        "<p><img alt=\"Colaboratory logo\" height=\"45px\" src=\"/img/colab_favicon.ico\" align=\"left\" hspace=\"10px\" vspace=\"0px\"></p>\r\n",
        "\r\n",
        "<h1>Text cells</h1>\r\n",
        "<br/></div>\r\n",
        "\r\n",
        "- Text cells use **Markdown** syntax.\r\n",
        "- You can also add headings, paragraphs, lists, etc.\r\n",
        "- You can also add math to text cells using [LaTeX](http://www.latex-project.org/)\r\n",
        "to be rendered by [MathJax](https://www.mathjax.org). Just place the statement\r\n",
        "within a pair of **\\$** signs.\r\n",
        "\r\n",
        " For example:\r\n",
        "   `$\\sqrt{3x-1}+(1+x)^2$` becomes $\\sqrt{3x-1}+(1+x)^2.$ \r\n",
        "   \r\n",
        "    OR `$z= x^2 + y^2$` becomes $z= x^2 + y^2.$ \r\n",
        "\r\n",
        "\r\n",
        "\r\n",
        "\r\n"
      ]
    },
    {
      "cell_type": "markdown",
      "metadata": {
        "id": "MGCrh6ldIHBc"
      },
      "source": [
        "<div>\r\n",
        "<br/><p><img alt=\"Colaboratory logo\" height=\"45px\" src=\"/img/colab_favicon.ico\" align=\"left\" hspace=\"10px\" vspace=\"0px\"></p>\r\n",
        "\r\n",
        "<h1>Save / Share</h1>\r\n",
        "<br/></div>\r\n",
        "\r\n",
        "- **Share** Link/Email.\r\n",
        "- Mounting **Google Drive** to colab\r\n",
        "- Save in **GitHub**\r\n",
        "- **Export** \"ipynb\" or \"py\" format\r\n",
        "- **History** revision\r\n",
        "\r\n",
        "\r\n",
        "\r\n",
        "\r\n"
      ]
    },
    {
      "cell_type": "code",
      "metadata": {
        "id": "_gV4Hyx1lYiN",
        "colab": {
          "base_uri": "https://localhost:8080/"
        },
        "outputId": "42ca1572-a6b3-4753-cea0-8c6bf6a9bd95"
      },
      "source": [
        "from google.colab import drive\r\n",
        "drive.mount('/content/drive')"
      ],
      "execution_count": 8,
      "outputs": [
        {
          "output_type": "stream",
          "text": [
            "Mounted at /content/drive\n"
          ],
          "name": "stdout"
        }
      ]
    },
    {
      "cell_type": "markdown",
      "metadata": {
        "id": "ezl4U4QIIEYk"
      },
      "source": [
        "<div>\r\n",
        "<br/><p><img alt=\"Colaboratory logo\" height=\"45px\" src=\"/img/colab_favicon.ico\" align=\"left\" hspace=\"10px\" vspace=\"0px\"></p>\r\n",
        "\r\n",
        "<h1>Code cells</h1>\r\n",
        "<br/></div>\r\n",
        "\r\n",
        "Below is a ***code cell***. Execute in the following ways:\r\n",
        "\r\n",
        "* Click the **Play icon** in the left gutter of the cell;\r\n",
        "* Type **Ctrl+Enter** to run the cell in place;\r\n",
        "* Type **Shift+Enter** to run the cell and move focus to the next cell (adding one if none exists); \r\n",
        "* Type **Alt+Enter** to run the cell and insert a new code cell immediately below it.\r\n",
        "\r\n",
        "There are additional options for running some or all cells in the **Runtime** menu.\r\n"
      ]
    },
    {
      "cell_type": "code",
      "metadata": {
        "id": "_b45SHy7du1p",
        "colab": {
          "base_uri": "https://localhost:8080/"
        },
        "outputId": "4ff02205-06f6-42ca-c94a-bce5bb0b0ff9"
      },
      "source": [
        "print(\"Hello World! \" , end='')\r\n",
        "print(\"Let's Start our first code.\")\r\n",
        "print(\"Let's import some libraries.\")"
      ],
      "execution_count": 9,
      "outputs": [
        {
          "output_type": "stream",
          "text": [
            "Hello World! Let's Start our first code.\n",
            "Let's import some libraries.\n"
          ],
          "name": "stdout"
        }
      ]
    },
    {
      "cell_type": "code",
      "metadata": {
        "id": "l13H__3EVWgE"
      },
      "source": [
        "import numpy as np\r\n",
        "print(\"numpy: \",np.__version__)\r\n",
        "import sklearn as sk\r\n",
        "print(\"sklearn: \",sk.__version__)\r\n",
        "import pandas as pd\r\n",
        "print(\"pandas: \",pd.__version__)\r\n",
        "import torch as torch\r\n",
        "print(\"torch: \",torch.__version__)\r\n",
        "import cv2 as cv\r\n",
        "print(\"cv2: \",cv.__version__)\r\n",
        "import gym as gym\r\n",
        "print(\"gym: \",gym.__version__)\r\n",
        "import tensorflow as tensor\r\n",
        "print(\"tensorflow: \",tensor.__version__)\r\n"
      ],
      "execution_count": null,
      "outputs": []
    },
    {
      "cell_type": "code",
      "metadata": {
        "id": "qwaFRivtqBEv"
      },
      "source": [
        "import math \r\n",
        "dir(math)"
      ],
      "execution_count": null,
      "outputs": []
    },
    {
      "cell_type": "code",
      "metadata": {
        "id": "tekYrp6UtAUn"
      },
      "source": [
        "math.isclose?"
      ],
      "execution_count": null,
      "outputs": []
    },
    {
      "cell_type": "code",
      "metadata": {
        "id": "LxMQkKrnr-fo"
      },
      "source": [
        "help(math.isclose)"
      ],
      "execution_count": null,
      "outputs": []
    },
    {
      "cell_type": "markdown",
      "metadata": {
        "id": "p1cbpO-bgztW"
      },
      "source": [
        "<div>\r\n",
        "<br/><p><img alt=\"Colaboratory logo\" height=\"45px\" src=\"/img/colab_favicon.ico\" align=\"left\" hspace=\"10px\" vspace=\"0px\"></p>\r\n",
        "\r\n",
        "<h1>Importing a library that is not in Colaboratory</h1>\r\n",
        "<br/></div>\r\n",
        "\r\n",
        "\r\n",
        "To import a library, you can use \r\n",
        "\r\n",
        "\r\n",
        "*   `!pip install`\r\n",
        "*   `!apt-get install`\r\n",
        "\r\n",
        "\r\n",
        "\r\n",
        "\r\n"
      ]
    },
    {
      "cell_type": "code",
      "metadata": {
        "id": "0YCpk5AVhRS4"
      },
      "source": [
        "!pip install matplotlib-venn"
      ],
      "execution_count": null,
      "outputs": []
    },
    {
      "cell_type": "code",
      "metadata": {
        "id": "bDgxZ3vrheKM"
      },
      "source": [
        "!apt-get -qq install -y libfluidsynth1"
      ],
      "execution_count": null,
      "outputs": []
    },
    {
      "cell_type": "code",
      "metadata": {
        "id": "4DfglOnihbvL"
      },
      "source": [
        "# To determine which version you're using:\r\n",
        "!pip show tensorflow\r\n",
        "\r\n",
        "# For the current version: \r\n",
        "!pip install --upgrade tensorflow\r\n",
        "\r\n",
        "# For a specific version:\r\n",
        "!pip install tensorflow==2.1\r\n",
        "\r\n",
        "# For the latest nightly build:\r\n",
        "!pip install tf-nightly\r\n",
        "!pip show tensorflow"
      ],
      "execution_count": null,
      "outputs": []
    },
    {
      "cell_type": "markdown",
      "metadata": {
        "id": "HPd2j2yVuZxn"
      },
      "source": [
        "\r\n",
        "<div>\r\n",
        "<br/><p><img alt=\"Colaboratory logo\" height=\"45px\" src=\"/img/colab_favicon.ico\" align=\"left\" hspace=\"10px\" vspace=\"0px\"></p>\r\n",
        "\r\n",
        "<h1>Rendering OpenAI Gym Envs on Google Colab\r\n",
        "\r\n",
        "</h1>\r\n",
        "<br/></div>\r\n",
        "\r\n",
        "\r\n",
        "\r\n"
      ]
    },
    {
      "cell_type": "code",
      "metadata": {
        "id": "aFiu0g7fuo1V"
      },
      "source": [
        "#!apt-get install -y xvfb x11-utils\r\n",
        "!apt install xvfb -y"
      ],
      "execution_count": null,
      "outputs": []
    },
    {
      "cell_type": "code",
      "metadata": {
        "id": "lZLNnSsIu073"
      },
      "source": [
        "!pip install pyvirtualdisplay\r\n",
        "#==0.2.* \\\r\n",
        " #            PyOpenGL==3.1.* \\\r\n",
        "  #           PyOpenGL-accelerate==3.1.*"
      ],
      "execution_count": null,
      "outputs": []
    },
    {
      "cell_type": "code",
      "metadata": {
        "id": "v161VCm3u-li"
      },
      "source": [
        "!pip install gym"
      ],
      "execution_count": null,
      "outputs": []
    },
    {
      "cell_type": "code",
      "metadata": {
        "id": "8QLcOsDpEQGM"
      },
      "source": [
        "!pip list -v "
      ],
      "execution_count": null,
      "outputs": []
    },
    {
      "cell_type": "code",
      "metadata": {
        "id": "fhKt3VBavYvt"
      },
      "source": [
        "import pyvirtualdisplay\r\n",
        "\r\n",
        "\r\n",
        "display = pyvirtualdisplay.Display(visible=False,  # use False with Xvfb\r\n",
        "                                    size=(1400, 900))\r\n",
        "display.start()"
      ],
      "execution_count": null,
      "outputs": []
    },
    {
      "cell_type": "code",
      "metadata": {
        "id": "beHJKjoGC4YX"
      },
      "source": [
        "!pip install gym[box2d] "
      ],
      "execution_count": null,
      "outputs": []
    },
    {
      "cell_type": "code",
      "metadata": {
        "id": "px8AtpsfrVYC"
      },
      "source": [
        "import typing\r\n",
        "\r\n",
        "import gym\r\n",
        "import matplotlib.pyplot as plt\r\n",
        "import numpy as np\r\n",
        "from IPython import display\r\n",
        "\r\n",
        "\r\n",
        "# represent states as arrays and actions as ints\r\n",
        "State = np.ndarray\r\n",
        "Action = int\r\n",
        "\r\n",
        "# agent is just a function! \r\n",
        "Agent = typing.Callable[[State], Action]\r\n",
        "\r\n",
        "\r\n",
        "def uniform_random_policy(state: State,\r\n",
        "                          number_actions: int,\r\n",
        "                          random_state: np.random.RandomState) -> Action:\r\n",
        "    \"\"\"Select an action at random from the set of feasible actions.\"\"\"\r\n",
        "    feasible_actions = np.arange(number_actions)\r\n",
        "    probs = np.ones(number_actions) / number_actions\r\n",
        "    action = random_state.choice(feasible_actions, p=probs)\r\n",
        "    return action\r\n",
        "\r\n",
        "\r\n",
        "def make_random_agent(number_actions: int,\r\n",
        "                      random_state: np.random.RandomState = None) -> Agent:\r\n",
        "    \"\"\"Factory for creating an Agent.\"\"\"\r\n",
        "    _random_state = np.random.RandomState() if random_state is None else random_state\r\n",
        "    return lambda state: uniform_random_policy(state, number_actions, _random_state)\r\n",
        "\r\n",
        "\r\n",
        "def simulate(agent: Agent, env: gym.Env, ax: plt.Axes) -> None:\r\n",
        "    state = env.reset()\r\n",
        "    img = ax.imshow(env.render(mode='rgb_array'))\r\n",
        "    done = False\r\n",
        "    while not done:\r\n",
        "        action = agent(state)\r\n",
        "        img.set_data(env.render(mode='rgb_array')) \r\n",
        "        ax.axis('off')\r\n",
        "        display.display(plt.gcf())\r\n",
        "        display.clear_output(wait=True)\r\n",
        "        state, reward, done, _ = env.step(action)       \r\n",
        "    env.close()\r\n",
        "    \r\n",
        "# create the Gym environment\r\n",
        "lunar_lander_v2 = gym.make('LunarLander-v2')\r\n",
        "a1 = lunar_lander_v2.seed(42)\r\n",
        "\r\n",
        "# create an agent\r\n",
        "random_agent = make_random_agent(lunar_lander_v2.action_space.n, random_state=None)\r\n",
        "\r\n",
        "# simulate agent interacting with the environment\r\n",
        "a1, ax = plt.subplots(1, 1)\r\n",
        "simulate(random_agent, lunar_lander_v2, ax)"
      ],
      "execution_count": null,
      "outputs": []
    },
    {
      "cell_type": "markdown",
      "metadata": {
        "id": "LbebiC9AVuo2"
      },
      "source": [
        "\r\n",
        "<div>\r\n",
        "<br/><p><img alt=\"Colaboratory logo\" height=\"45px\" src=\"/img/colab_favicon.ico\" align=\"left\" hspace=\"10px\" vspace=\"0px\"></p>\r\n",
        "\r\n",
        "<h1>Rendering OpenAI Gym Envs on Google Colab 2\r\n",
        "\r\n",
        "</h1>\r\n",
        "<br/></div>\r\n",
        "\r\n",
        "\r\n",
        "\r\n"
      ]
    },
    {
      "cell_type": "code",
      "metadata": {
        "id": "iTW_9CRkKBym"
      },
      "source": [
        "#!pip install gym\r\n",
        "#!apt install xvfb -y\r\n",
        "#!pip install pyvirtualdisplay\r\n",
        "!pip install piglet"
      ],
      "execution_count": null,
      "outputs": []
    },
    {
      "cell_type": "code",
      "metadata": {
        "id": "OP6TRyPoKPZY"
      },
      "source": [
        "import gym\r\n",
        "from gym.wrappers import Monitor\r\n",
        "import numpy as np\r\n",
        "import matplotlib.pyplot as plt\r\n",
        "import glob\r\n",
        "import io\r\n",
        "import base64\r\n",
        "from IPython.display import HTML\r\n",
        "\r\n",
        "from IPython import display as ipythondisplay"
      ],
      "execution_count": null,
      "outputs": []
    },
    {
      "cell_type": "code",
      "metadata": {
        "id": "jJYexIWiKTBx"
      },
      "source": [
        "\"\"\"\r\n",
        "Utility functions to enable video recording of gym environment and displaying it\r\n",
        "To enable video, just do \"env = wrap_env(env)\"\"\r\n",
        "\"\"\"\r\n",
        "\r\n",
        "def show_video():\r\n",
        "  mp4list = glob.glob('video/*.mp4')\r\n",
        "  if len(mp4list) > 0:\r\n",
        "    mp4 = mp4list[0]\r\n",
        "    video = io.open(mp4, 'r+b').read()\r\n",
        "    encoded = base64.b64encode(video)\r\n",
        "    ipythondisplay.display(HTML(data='''<video alt=\"test\" autoplay \r\n",
        "                loop controls style=\"height: 400px;\">\r\n",
        "                <source src=\"data:video/mp4;base64,{0}\" type=\"video/mp4\" />\r\n",
        "             </video>'''.format(encoded.decode('ascii'))))\r\n",
        "  else: \r\n",
        "    print(\"Could not find video\")\r\n",
        "    \r\n",
        "\r\n",
        "def wrap_env(env):\r\n",
        "  env = Monitor(env, './video', force=True)\r\n",
        "  return env"
      ],
      "execution_count": null,
      "outputs": []
    },
    {
      "cell_type": "code",
      "metadata": {
        "id": "jgyp3nKXKZIp"
      },
      "source": [
        "'''CartPole problem use random action'''\r\n",
        "import gym\r\n",
        "env = gym.make('CartPole-v0')\r\n",
        "env = wrap_env(env)  # defined before for rendering online\r\n",
        "\r\n",
        "observation = env.reset()\r\n",
        "    \r\n",
        "while True:\r\n",
        "  env.render()\r\n",
        "  \r\n",
        "  # your agent goes here\r\n",
        "  action = env.action_space.sample()   # take a random action\r\n",
        "  observation, reward, done, info = env.step(action) \r\n",
        "  print(reward)\r\n",
        "   \r\n",
        "  if done: \r\n",
        "    break;\r\n",
        "            \r\n",
        "env.close()\r\n",
        "show_video()"
      ],
      "execution_count": null,
      "outputs": []
    },
    {
      "cell_type": "markdown",
      "metadata": {
        "id": "5sMaHvn3htmc"
      },
      "source": [
        "<div>\r\n",
        "<br/><p><img alt=\"Colaboratory logo\" height=\"45px\" src=\"/img/colab_favicon.ico\" align=\"left\" hspace=\"10px\" vspace=\"0px\"></p>\r\n",
        "\r\n",
        "<h1>Plots\r\n",
        "</h1>\r\n",
        "<br/></div>\r\n",
        "\r\n"
      ]
    },
    {
      "cell_type": "code",
      "metadata": {
        "id": "WOF0HVQvU8Qm"
      },
      "source": [
        "import matplotlib.pyplot as plt\r\n",
        "\r\n",
        "# Look at index 4 and 6, which demonstrate overlapping cases.\r\n",
        "x1  = [1, 2, 3, 4, 5, 6, 7, 8, 9]\r\n",
        "y1 = [1, 3, 5, 3, 1, 3, 5, 3, 1]\r\n",
        "\r\n",
        "x2  = [3, 5, 7, 9, 11, 13, 15, 17, 19]\r\n",
        "y2 = [2, 4, 6, 4, 2, 4, 6, 4, 2]\r\n",
        "\r\n"
      ],
      "execution_count": null,
      "outputs": []
    },
    {
      "cell_type": "code",
      "metadata": {
        "id": "lLJuXMgoVG6-"
      },
      "source": [
        "plt.plot(x1, y1, label=\"line L\")\r\n",
        "plt.plot(x1, y2, label=\"line H\")\r\n",
        "plt.plot()\r\n",
        "\r\n",
        "plt.xlabel(\"x axis\")\r\n",
        "plt.ylabel(\"y axis\")\r\n",
        "plt.title(\"Line Graph Example\")\r\n",
        "plt.legend()\r\n",
        "plt.show()\r\n",
        "plt.savefig('Line Graph Example.png')"
      ],
      "execution_count": null,
      "outputs": []
    },
    {
      "cell_type": "code",
      "metadata": {
        "id": "Ql1Xm55cVNBD"
      },
      "source": [
        "# Colors: https://matplotlib.org/api/colors_api.html\r\n",
        "\r\n",
        "plt.bar(x1, y1, label=\"Blue Bar\", color='b')\r\n",
        "plt.bar(x2, y2, label=\"Green Bar\", color='g')\r\n",
        "plt.plot()\r\n",
        "\r\n",
        "plt.xlabel(\"bar number\")\r\n",
        "plt.ylabel(\"bar height\")\r\n",
        "plt.title(\"Bar Chart Example\")\r\n",
        "plt.legend()\r\n",
        "plt.show()"
      ],
      "execution_count": null,
      "outputs": []
    },
    {
      "cell_type": "code",
      "metadata": {
        "id": "ob6QvhrBknDO"
      },
      "source": [
        "# load an example dataset\r\n",
        "from vega_datasets import data\r\n",
        "cars = data.cars()\r\n",
        "\r\n",
        "import altair as alt\r\n",
        "\r\n",
        "interval = alt.selection_interval()\r\n",
        "\r\n",
        "points = alt.Chart(cars).mark_point().encode(\r\n",
        "  x='Horsepower',\r\n",
        "  y='Miles_per_Gallon',\r\n",
        "  color=alt.condition(interval, 'Origin', alt.value('lightgray'))\r\n",
        ").properties(\r\n",
        "  selection=interval\r\n",
        ")\r\n",
        "\r\n",
        "histogram = alt.Chart(cars).mark_bar().encode(\r\n",
        "  x='count()',\r\n",
        "  y='Origin',\r\n",
        "  color='Origin'\r\n",
        ").transform_filter(interval)\r\n",
        "\r\n",
        "points & histogram"
      ],
      "execution_count": null,
      "outputs": []
    },
    {
      "cell_type": "markdown",
      "metadata": {
        "id": "_1rxRMNeZG9F"
      },
      "source": [
        "<div>\r\n",
        "<br/><p><img alt=\"Colaboratory logo\" height=\"45px\" src=\"/img/colab_favicon.ico\" align=\"left\" hspace=\"10px\" vspace=\"0px\"></p>\r\n",
        "\r\n",
        "<h1>ploting $z= x^2 + y^2.$</h1>\r\n",
        "<br/></div>"
      ]
    },
    {
      "cell_type": "code",
      "metadata": {
        "id": "GvL-R2UQLQjj"
      },
      "source": [
        "import numpy as np\r\n",
        "\r\n",
        "x= np.arange(-10,10,0.5)\r\n",
        "y= np.arange(-10,10,0.5)"
      ],
      "execution_count": null,
      "outputs": []
    },
    {
      "cell_type": "code",
      "metadata": {
        "id": "RR5-VQS3L2q3"
      },
      "source": [
        "print(x.shape)"
      ],
      "execution_count": null,
      "outputs": []
    },
    {
      "cell_type": "code",
      "metadata": {
        "id": "o5YO7H6VL8bL"
      },
      "source": [
        "print(x)"
      ],
      "execution_count": null,
      "outputs": []
    },
    {
      "cell_type": "code",
      "metadata": {
        "id": "q07c-hNrNI8I"
      },
      "source": [
        "A, B = np.meshgrid(x,y)"
      ],
      "execution_count": null,
      "outputs": []
    },
    {
      "cell_type": "code",
      "metadata": {
        "id": "G30nFz6GNRjY"
      },
      "source": [
        "A.shape"
      ],
      "execution_count": null,
      "outputs": []
    },
    {
      "cell_type": "code",
      "metadata": {
        "id": "hvT1eBLDNU_n"
      },
      "source": [
        "print(A)"
      ],
      "execution_count": null,
      "outputs": []
    },
    {
      "cell_type": "code",
      "metadata": {
        "id": "Kt3AG0yVNbtv"
      },
      "source": [
        "Z= A**2 + B**2"
      ],
      "execution_count": null,
      "outputs": []
    },
    {
      "cell_type": "markdown",
      "metadata": {
        "id": "lEiSHZWZTMCr"
      },
      "source": [
        "<div>\r\n",
        "<br/><p><img alt=\"Colaboratory logo\" height=\"45px\" src=\"/img/colab_favicon.ico\" align=\"left\" hspace=\"10px\" vspace=\"0px\"></p>\r\n",
        "\r\n",
        "<h1>Pickling</h1>\r\n",
        "<br/></div>"
      ]
    },
    {
      "cell_type": "code",
      "metadata": {
        "id": "98odBdCbRDmi"
      },
      "source": [
        "import pickle as pickle\r\n",
        "\r\n",
        "data= {\"x\": A , \"y\": B , \"result\": Z }\r\n",
        "\r\n",
        "pickle_out = open(\"Variables.pickle\",\"wb\")\r\n",
        "pickle.dump(data, pickle_out)\r\n",
        "pickle_out.close()"
      ],
      "execution_count": null,
      "outputs": []
    },
    {
      "cell_type": "code",
      "metadata": {
        "id": "ux_3HU0aRoqS"
      },
      "source": [
        "pickle_in = open(\"Variables.pickle\",\"rb\")\r\n",
        "saved_data = pickle.load(pickle_in)"
      ],
      "execution_count": null,
      "outputs": []
    },
    {
      "cell_type": "markdown",
      "metadata": {
        "id": "rb3E4rscTcHB"
      },
      "source": [
        "<div>\r\n",
        "<br/><p><img alt=\"Colaboratory logo\" height=\"45px\" src=\"/img/colab_favicon.ico\" align=\"left\" hspace=\"10px\" vspace=\"0px\"></p>\r\n",
        "\r\n",
        "<h1>3D plots</h1>\r\n",
        "<br/></div>"
      ]
    },
    {
      "cell_type": "code",
      "metadata": {
        "id": "CWeJ4EnOSTNB"
      },
      "source": [
        "print(saved_data)"
      ],
      "execution_count": null,
      "outputs": []
    },
    {
      "cell_type": "code",
      "metadata": {
        "id": "UAAbQwWzSZg7"
      },
      "source": [
        "new_X= saved_data['x']\r\n",
        "new_Y= saved_data['y']\r\n",
        "new_Z= saved_data['result']"
      ],
      "execution_count": null,
      "outputs": []
    },
    {
      "cell_type": "code",
      "metadata": {
        "id": "-7NDFGFoNjks"
      },
      "source": [
        "from mpl_toolkits import mplot3d\r\n",
        "import matplotlib.pyplot as plt\r\n",
        "\r\n",
        "fig =plt.figure(figsize=(12,8))\r\n",
        "ax = plt.axes(projection= '3d')\r\n",
        "surf= ax.plot_surface(new_X,new_Y,new_Z,cmap=plt.cm.rainbow)\r\n",
        "cset= ax.contourf(new_X , new_Y , new_Z , zdir='z' , offset= 0 , cmap=plt.cm.rainbow )\r\n",
        "fig.colorbar (surf , shrink = 0.5 , aspect = 5)\r\n",
        "plt.show()\r\n"
      ],
      "execution_count": null,
      "outputs": []
    },
    {
      "cell_type": "markdown",
      "metadata": {
        "id": "4Jewm03hXuZX"
      },
      "source": [
        "<div>\r\n",
        "<br/><p><img alt=\"Colaboratory logo\" height=\"45px\" src=\"/img/colab_favicon.ico\" align=\"left\" hspace=\"10px\" vspace=\"0px\"></p>\r\n",
        "\r\n",
        "<h1>Saving data to Google Drive and Downloading files from it\r\n",
        "</h1>\r\n",
        "<br/></div>"
      ]
    },
    {
      "cell_type": "code",
      "metadata": {
        "id": "vNUalGzgceyZ"
      },
      "source": [
        "DATA_PATH = \"/content/drive/MyDrive/__IEEE/\"\r\n",
        "\r\n",
        "pickle_out = open(\"/content/drive/MyDrive/__IEEE/Variables(DriveVersion).pkl\",\"wb\")\r\n",
        "pickle.dump(data, pickle_out)\r\n",
        "pickle_out.close()"
      ],
      "execution_count": null,
      "outputs": []
    },
    {
      "cell_type": "code",
      "metadata": {
        "id": "Z9BWec_UdEBF"
      },
      "source": [
        "pickle_in = open(\"/content/drive/MyDrive/__IEEE/Variables(DriveVersion).pkl\",\"rb\")\r\n",
        "mydrivedata = pickle.load(pickle_in)\r\n",
        "print(mydrivedata)"
      ],
      "execution_count": null,
      "outputs": []
    },
    {
      "cell_type": "code",
      "metadata": {
        "id": "b2QZG728XezY"
      },
      "source": [
        "from google.colab import files\r\n",
        "\r\n",
        "\r\n",
        "files.download('/content/drive/MyDrive/__IEEE/Variables(DriveVersion).pkl')\r\n",
        "#files.download('Variables.pickle')"
      ],
      "execution_count": null,
      "outputs": []
    },
    {
      "cell_type": "markdown",
      "metadata": {
        "id": "7y3CNeDqhgEr"
      },
      "source": [
        "<div>\r\n",
        "<br/><p><img alt=\"Colaboratory logo\" height=\"45px\" src=\"/img/colab_favicon.ico\" align=\"left\" hspace=\"10px\" vspace=\"0px\"></p>\r\n",
        "\r\n",
        "<h1>Forms</h1>\r\n",
        "<br/></div>\r\n",
        "\r\n",
        " \r\n",
        "\r\n",
        "\r\n",
        "*   easy way to parameterize code\r\n",
        "*   From a code cell, select Insert → Add form field.\r\n",
        "\r\n"
      ]
    },
    {
      "cell_type": "code",
      "metadata": {
        "id": "5wlJIhk3hfHt"
      },
      "source": [
        "#@title String fields\r\n",
        "\r\n",
        "text = 'value' #@param {type:\"string\"}\r\n",
        "dropdown = '2nd option' #@param [\"1st option\", \"2nd option\", \"3rd option\"]\r\n",
        "text_and_dropdown = 'value' #@param [\"1st option\", \"2nd option\", \"3rd option\"] {allow-input: true}\r\n",
        "\r\n",
        "print(text)\r\n",
        "print(dropdown)\r\n",
        "print(text_and_dropdown)"
      ],
      "execution_count": null,
      "outputs": []
    },
    {
      "cell_type": "code",
      "metadata": {
        "id": "r8su4UCpi2nH"
      },
      "source": [
        "from google.colab import data_table\r\n",
        "from vega_datasets import data\r\n",
        "\r\n",
        "#data.airports()\r\n",
        "data_table.DataTable(data.airports(), include_index=False, num_rows_per_page=10)\r\n"
      ],
      "execution_count": null,
      "outputs": []
    },
    {
      "cell_type": "markdown",
      "metadata": {
        "id": "5NaNy_u_mTQy"
      },
      "source": [
        "<div>\r\n",
        "<br/><p><img alt=\"Colaboratory logo\" height=\"45px\" src=\"/img/colab_favicon.ico\" align=\"left\" hspace=\"10px\" vspace=\"0px\"></p>\r\n",
        "\r\n",
        "<h1>Functions, Conditionals, and Iteration\r\n",
        "</h1>\r\n",
        "<br/></div>\r\n",
        "\r\n",
        "\r\n",
        "\r\n",
        "\r\n"
      ]
    },
    {
      "cell_type": "code",
      "metadata": {
        "id": "tmlNVBFMmWxj"
      },
      "source": [
        "def HelloWorldXY(x, y):\r\n",
        "  '''\r\n",
        "  print  \"hello world\" and describe the x considering 10 , 20 and return sum x,y\r\n",
        "\r\n",
        "  arguments:\r\n",
        "  x: an integer\r\n",
        "  y: an integer\r\n",
        "  '''\r\n",
        "  if (x < 10):\r\n",
        "    print(\"Hello World, x was < 10\")\r\n",
        "  elif (x < 20):\r\n",
        "    print(\"Hello World, x was >= 10 but < 20\")\r\n",
        "  else:\r\n",
        "    print(\"Hello World, x was >= 20\")\r\n",
        "  return x + y\r\n",
        "\r\n",
        "for i in range(8, 25, 5):  # i=8, 13, 18, 23 (start, stop, step)\r\n",
        "  print(\"--- Now running with i: {}\".format(i))\r\n",
        "  r = HelloWorldXY(i,i)\r\n",
        "  print(\"Result from HelloWorld: {}\".format(r))"
      ],
      "execution_count": null,
      "outputs": []
    },
    {
      "cell_type": "code",
      "metadata": {
        "id": "HHYBqsQ2ml51"
      },
      "source": [
        "print(HelloWorldXY(1,2))"
      ],
      "execution_count": null,
      "outputs": []
    },
    {
      "cell_type": "markdown",
      "metadata": {
        "id": "kqVGqiM7R1-x"
      },
      "source": [
        "<div>\r\n",
        "<br/><p><img alt=\"Colaboratory logo\" height=\"45px\" src=\"/img/colab_favicon.ico\" align=\"left\" hspace=\"10px\" vspace=\"0px\"></p>\r\n",
        "\r\n",
        "<h1>Saving data to Google Drive\r\n",
        "</h1>\r\n",
        "<br/></div>\r\n",
        "\r\n",
        "\r\n",
        "\r\n",
        "\r\n"
      ]
    },
    {
      "cell_type": "code",
      "metadata": {
        "id": "kMgobV2jka0K"
      },
      "source": [
        "# Import PyDrive and associated libraries.\r\n",
        "# This only needs to be done once in a notebook.\r\n",
        "#from pydrive.auth import GoogleAuth\r\n",
        "#from pydrive.drive import GoogleDrive\r\n",
        "#from google.colab import auth\r\n",
        "#from oauth2client.client import GoogleCredentials\r\n",
        "\r\n",
        "# Authenticate and create the PyDrive client.\r\n",
        "# This only needs to be done once in a notebook.\r\n",
        "#auth.authenticate_user()\r\n",
        "#gauth = GoogleAuth()\r\n",
        "#gauth.credentials = GoogleCredentials.get_application_default()\r\n",
        "#drive = GoogleDrive(gauth)\r\n",
        "\r\n",
        "# Create & upload a text file.\r\n",
        "uploaded = drive.CreateFile({'title': 'Sample file.txt'})\r\n",
        "uploaded.SetContentString('Sample upload file content')\r\n",
        "uploaded.Upload()\r\n",
        "print('Uploaded file with ID {}'.format(uploaded.get('id')))"
      ],
      "execution_count": null,
      "outputs": []
    },
    {
      "cell_type": "markdown",
      "metadata": {
        "id": "roqZnnM-TQLH"
      },
      "source": [
        "<div>\r\n",
        "<br/><p><img alt=\"Colaboratory logo\" height=\"45px\" src=\"/img/colab_favicon.ico\" align=\"left\" hspace=\"10px\" vspace=\"0px\"></p>\r\n",
        "\r\n",
        "<h1>Downloading files or importing data from Google Drive</h1>\r\n",
        "<br/></div>\r\n",
        "\r\n"
      ]
    },
    {
      "cell_type": "code",
      "metadata": {
        "id": "WGJ2LoxWS8F9"
      },
      "source": [
        "# Import PyDrive and associated libraries.\r\n",
        "# This only needs to be done once per notebook.\r\n",
        "#from pydrive.auth import GoogleAuth\r\n",
        "#from pydrive.drive import GoogleDrive\r\n",
        "#from google.colab import auth\r\n",
        "#from oauth2client.client import GoogleCredentials\r\n",
        "\r\n",
        "## Authenticate and create the PyDrive client.\r\n",
        "## This only needs to be done once per notebook.\r\n",
        "#auth.authenticate_user()\r\n",
        "#gauth = GoogleAuth()\r\n",
        "#gauth.credentials = GoogleCredentials.get_application_default()\r\n",
        "#drive = GoogleDrive(gauth)\r\n",
        "\r\n",
        "## Download a file based on its file ID.\r\n",
        "#\r\n",
        "## A file ID looks like: laggVyWshwcyP6kEI-y_W3P8D26sz\r\n",
        "#file_id = '1oGJz7r3DUTln7Lm7sZYc-ML1_0P92db-'\r\n",
        "#downloaded = drive.CreateFile({'id': file_id})\r\n",
        "#print('Downloaded content \"{}\"'.format(downloaded.GetContentString()))"
      ],
      "execution_count": null,
      "outputs": []
    },
    {
      "cell_type": "code",
      "metadata": {
        "id": "gx2ka0XowaIQ"
      },
      "source": [
        "Houseprice= np.genfromtxt('TestData.txt', delimiter=',')\r\n",
        "print(Houseprice)\r\n",
        "print(Houseprice.dtype)\r\n",
        "print(Houseprice.shape)"
      ],
      "execution_count": null,
      "outputs": []
    },
    {
      "cell_type": "code",
      "metadata": {
        "id": "_EePRJS0omZe"
      },
      "source": [
        "def Savefiles(Path,Filename,File):\r\n",
        "   \r\n",
        "  Name=Path+Filename \r\n",
        "  np.savetxt(Name,File)"
      ],
      "execution_count": null,
      "outputs": []
    },
    {
      "cell_type": "code",
      "metadata": {
        "id": "fIa0pO9to-Cy"
      },
      "source": [
        "Savefiles('','Test1.txt',Houseprice)\r\n",
        "Savefiles('/content/drive/MyDrive/__IEEE/','Test2.txt',Houseprice)\r\n",
        "\r\n"
      ],
      "execution_count": null,
      "outputs": []
    },
    {
      "cell_type": "code",
      "metadata": {
        "id": "u3J8T3Hm5lJw"
      },
      "source": [
        "from google.colab import files\r\n",
        "files.download('/content/Test1.txt')\r\n",
        "\r\n",
        "files.download('/content/drive/MyDrive/__IEEE/Test2.txt')"
      ],
      "execution_count": null,
      "outputs": []
    }
  ]
}